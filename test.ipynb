{
  "nbformat": 4,
  "nbformat_minor": 0,
  "metadata": {
    "colab": {
      "name": "test.ipynb",
      "provenance": [],
      "collapsed_sections": [
        "_CQA4yUDeI3h",
        "dgcL_ruEkrJr",
        "q2qjj3mlSlk6"
      ],
      "toc_visible": true
    },
    "kernelspec": {
      "name": "python3",
      "display_name": "Python 3"
    },
    "language_info": {
      "name": "python"
    }
  },
  "cells": [
    {
      "cell_type": "markdown",
      "metadata": {
        "id": "zpzeDra9Zh9e"
      },
      "source": [
        "# タイタニックチュートリアル\n",
        "浅く広くで後からまた調べる\n",
        "\n",
        "ランダムフォレストを使用\n",
        "\n",
        "## ランダムフォレストとは\n",
        "決定木を複数集めて全体で判断するもの\n",
        "決定木を弱学習器とするアンサンブル学習アルゴリズム\n",
        "\n",
        "分類、回帰、クラスタリング\n",
        "\n",
        "## 決定木とは\n",
        "ツリー構造を用いて分類、回帰をする教師あり機械学習の手法\n",
        "\n",
        "分類木、回帰木の総称\n",
        "\n",
        "## 回帰とは\n",
        "説明変数(独立変数)X 被説明変数(目的変数、従属変数)Y\n",
        "\n",
        "XでYを線形のモデルから予測する\n",
        "\n",
        "Xが2つ以上ある時は重回帰\n",
        "\n",
        "## 分類とは\n",
        "教師あり\n",
        "\n",
        "\n",
        "## クラスタリング\n",
        "Cluster\n",
        "教師なし\n",
        "集まりを見つける\n",
        "\n",
        "- 階層的手法\n",
        "ウォード法\n",
        "最短距離法\n",
        "最長距離法などのアルゴリズムがある\n",
        "\n",
        "- 非階層的手法\n",
        "クラスタ数を予め決めて行う\n",
        "k-means法 k近傍法\n",
        "\n",
        "\n",
        "\n",
        "## ダミー変数とは\n",
        "0 1で表現されているデータが入ってる変数\n",
        "\n",
        "pd.get_dummiesでカテゴリ変数をone-hotで置き換える\n",
        "\n",
        "one-hotエンコーディング\n",
        "\n",
        "\n",
        "## 一般化線形モデル\n",
        "正規分布以外の確率分布も利用できるように一般化したもの\n",
        "\n",
        "線形回帰モデルは誤差の傾向に正規分布が仮定されている\n",
        "\n",
        "代表的なのでロジスティック回帰モデル\n",
        "\n",
        "## 正規分布\n",
        "ガウス分布\n",
        "\n",
        "平均値付近に集積するような分布\n",
        "\n",
        "\n",
        "## バギング\n",
        "Bootstrap Aggregating\n",
        "\n",
        "データの一部で学習し、何度も繰り返し最後に合わせる方法\n",
        "\n",
        "- 復元抽出する\n",
        "一度学習データから抽出したサンプルを再び抽出の対象となるようにしてバリアンス(分散、ばらつき)を下げる\n",
        "\n",
        "\n",
        "\n",
        "## ブースティング\n",
        "バギングと同様に一部を使う\n",
        "弱学習器を1つづつ構築していく\n",
        "\n",
        "バイアスを下げる\n",
        "前のモデルの間違った予測に焦点を当てて「重み」を加味して次のモデルの改善を行う\n",
        "\n",
        "\n",
        "## スタッキング\n",
        "様々な学習器を使う\n",
        "kaggle 上位でよく使われる\n",
        "\n",
        "バイアスとバリアンすをバランスよく調整できるっぽい\n",
        "\n",
        "## 平均(アンサンブル学習)\n",
        "複数モデルの予測結果を平均する\n",
        "\n",
        "## メタモデル\n",
        "作成したモデルに予測させて、その結果からモデルを作成する手法\n",
        "\n",
        "## データオーギュメンテーション\n",
        "学習データの水増し\n",
        "- 画像\n",
        "左右反転、コントラスト、ズームなど線形変換して増やす\n",
        "\n",
        "- テーブルデータ\n",
        "SMOTEで不均衡データを均衡させる\n",
        "マイナーデータを増やす(oVersampling)\n",
        "メジャーデータを減らす(Undersampling)\n",
        "\n",
        "- テキストデータ\n",
        "異音同義語や類語、ルールベースで単語変換\n",
        "\n",
        "- 音声データ\n",
        "数値配列にしてノイズを乗せたり伸ばしたり\n",
        "\n",
        "\n",
        "## 特徴量\n",
        "データの特徴を数値で表したもの\n",
        "身長、年齢など\n",
        "カラムの項目のこと？\n",
        "項目数は次元で数える\n",
        "ディープラーニングでは特徴量選択しなくても良い？\n",
        "\n",
        "\n",
        "## 前処理\n",
        "欠損、ノイズ、エラー値\n",
        "\n",
        "- 数値でデータを渡す必要があるため\n",
        "- nullも数値にする必要があるため\n",
        "- 精度向上\n",
        "- リーケージを防ぐ\n",
        "\n",
        "無視してもいい場合もあるが、\n",
        "- 欠損は適切な値で埋めて\n",
        "-  好ましくないデータは除く\n",
        "\n",
        "画像における前処理\n",
        "物体検出が重要\n",
        "閾値処理やフィルター処理\n",
        "\n",
        "\n",
        "one-hotエンコーディング\n",
        "正規化、標準化(規格化)\n",
        "クラスタリングも前処理にすることがある\n",
        "欠損値\n",
        "\n",
        "\n",
        "\n",
        "## 欠損値扱い\n",
        "nullに意味があるか考える\n",
        "主な手法\n",
        "- 排除する\n",
        "- 新たなカテゴリとして利用する\n",
        "- 代入する\n",
        "多重代入法が良い？\n",
        "\n",
        "#### 欠損パターン\n",
        "- MCAR(missing completely at random)\n",
        "欠損が完全にランダムに発生している場合\n",
        "\n",
        "欠損値が多い場合は多重代入法がよい\n",
        "\n",
        "- MAR(Missing at random)\n",
        "欠損をデータ内で統一すればランダム\n",
        "欠損が完全ではランダムではないものの、欠損が発生しているか否かが’欠損値に依存していない\n",
        "\n",
        "多重代入法が良い\n",
        "\n",
        "最尤法でも良い？\n",
        "\n",
        "\n",
        "ex.\n",
        "\n",
        "多くの女性が体重を自己申告しなかった場合、\n",
        "体重の多い、少ないに関係なく、欠損ちの発生は体重の値そのものに依存していない\n",
        "\n",
        "- MNAR(Missing not at random)\n",
        "欠損がランダムでない\n",
        "欠損値の発生が欠損値そのものに依存する場合\n",
        "\n",
        "統計的な対処はあまりない\n",
        "分析に入れない方がいいが、\n",
        "MARかMNARかは通常識別は困難なので\n",
        "いずれにしても多重代入法を用いる\n",
        "\n",
        "ex.\n",
        "\n",
        "体重の特徴量において\n",
        "痩せている人が正確に自己申告したが、\n",
        "肥満の人の多くが自己申告しなかった場合\n",
        "\n",
        "\n",
        "\n",
        "#### 欠損対処法\n",
        "- リストワイズ削除\n",
        "(完全ケース分析？)\n",
        "欠損は使わない\n",
        "df.dropna()\n",
        "\n",
        "- ペアワイズ法\n",
        "欠損の少ない行を取り出してから欠損行を削除する\n",
        "\n",
        "- 代入法\n",
        "  - 平均値や中央値で埋める\n",
        "\n",
        "  - 前の行の値で埋める\n",
        "  時系列などの補完として\n",
        "  - k近傍法の利用\n",
        "  - 決定木でもできる？\n",
        "  - 線形補完・スプライン補完\n",
        "  わからん\n",
        "\n",
        "  - 平均値代入法　非推奨？\n",
        "  - 比率代入法\n",
        "  切片のない単回帰分析のモデルを用いて代入値を予測する\n",
        "  - 回帰代入法　非推奨？\n",
        "  - 確率的回帰代入法\n",
        "\n",
        "  - ホットデック法\n",
        "  同じ属性の人と同じ値を入れる\n",
        "  - コールドデック法\n",
        "  欠損値に影響しそうな変数を説明変数として重回帰分析などで欠損値を推定する\n",
        "  - LOCF, LVCF　非推奨？\n",
        "  前回の調査で得られた値を代入\n",
        "\n",
        "\n",
        "  - 最尤推定法\n",
        "  おおよその確率分布にデータを当てはめる\n",
        "  - 多重代入法\n",
        "    ばらつき\n",
        "- エンコーディング\n",
        "特徴量の1つのカテゴリとしてみなす\n",
        "\n",
        "\n",
        "\n",
        "#### Rescaling\n",
        "値を標準偏差で割って標準偏差1にする\n",
        "各特徴量の値の幅を揃える\n",
        "共通のスケールで公平に特徴量を比較できるようにするために行われる処理。\n",
        "ニューラルネットからKNN(k-Nearest Neighbor, K近傍法)\n",
        "\n",
        "特徴量の最大値、最小\n",
        "\n",
        "#### Centering\n",
        "各特徴量の中心を0に揃える\n",
        "それぞれの特徴量の平均を計算しそれを各値から引く\n",
        "\n",
        "#### 正規化\n",
        "Feature Scaling\n",
        "RescalingとCenteringの組み合わせ\n",
        "（Deep Leaningにおいて）平均値が0, 標準偏差が1おtなる方にする？\n",
        "これわからん\n",
        "\n",
        "X = (X - μ)/σ\n",
        "\n",
        "値のとる範囲を0~1 or -1~1にする\n",
        "\n",
        "使う時\n",
        "- 画像処理のRGBの強さ 0~255\n",
        "- シグモイド, tanh などの活性化関数を用いるニューラルネットワークのモデル\n",
        "\n",
        "\n",
        "#### 標準化\n",
        "平均を0、分散, 標準偏差を１にする\n",
        "正規化と比べてこちらの方をよく使う\n",
        "\n",
        "使う時\n",
        "- ロジスティック回帰、SVM, NNなどの勾配法を用いたモデル\n",
        "- kNN, k-meansなどの距離を用いるモデル\n",
        "- PCA, LDA(潜在的ディリクレ配分法), kernel PCAなどの特徴量抽出手法\n",
        "\n",
        "#### 正規化も標準化も使わない時\n",
        "決定期、ランダムフォレスト\n",
        "\n",
        "\n",
        "#### PCA(Principal Component analysis)\n",
        "分散の大きい特徴量のみを取り出す\n",
        "多変量解析の1つ\n",
        "データの次元を削減する= ばらつきのあるものに注目して特徴量を減らす？\n",
        "\n",
        "\n",
        "#### ICA(Independent component analysis)\n",
        "データ内で独立した特徴量を取り出す\n",
        "\n",
        "PCAは軸方向で分散が大きくなるように\n",
        "ICAは軸方向に多くのデータが軸に合うようになる\n",
        "\n",
        "\n",
        "## エントロピー\n",
        "事象の起こりにくさの尺度\n",
        "最大であればあるほど不確実性が大きくなる\n",
        "最大は全ての出来事が等確率\n",
        "\n",
        "情報量が大きいとは、確率が低い事象のことを知っていること\n",
        "関連のない事象の情報量の和で全体が表されるべきだが\n",
        "確率で考えると、同時に起こる場合は積で表す\n",
        "\n",
        "確率(積)に対して情報量(和)\n",
        "をlogで表す\n",
        "減少関数\n",
        "\n",
        "\n",
        "## 多変量解析\n",
        "主成分分析(PCA), 因子分析, クラスター分析、共分散構造分析\n",
        "重回帰分析、独立成分分析(ICA)、判別分析\n",
        "数量化理論、コンジョイント分析、多次元尺度構成法(MDS)\n",
        "\n",
        "\n",
        "\n",
        "\n",
        "\n",
        "\n"
      ]
    },
    {
      "cell_type": "markdown",
      "metadata": {
        "id": "TrZ_VZknYdtV"
      },
      "source": [
        "# 初期化"
      ]
    },
    {
      "cell_type": "code",
      "metadata": {
        "id": "bab7WOjx4BYA"
      },
      "source": [
        "import pandas as pd\n",
        "import seaborn as sns\n",
        "\n",
        "from matplotlib import pyplot as plt\n",
        "from sklearn.metrics import accuracy_score\n",
        "\n",
        "train_data = pd.read_csv('/content/titanic/train.csv')\n",
        "test_data = pd.read_csv('/content/titanic/test.csv')\n",
        "true_data = pd.read_csv('/content/titanic/final1submission.csv')\n"
      ],
      "execution_count": 2,
      "outputs": []
    },
    {
      "cell_type": "markdown",
      "metadata": {
        "id": "aTkrlHXq9ZOJ"
      },
      "source": [
        "# データ 前処理\n"
      ]
    },
    {
      "cell_type": "code",
      "metadata": {
        "id": "e9zNZJn39hMm",
        "colab": {
          "base_uri": "https://localhost:8080/"
        },
        "outputId": "dafa0366-1ae1-42b7-dcab-d0a0edece19b"
      },
      "source": [
        "\"\"\"\n",
        "Cabin\n",
        "Age\n",
        "Embarked\n",
        "Fare\n",
        "\n",
        "\"\"\"\n",
        "\n",
        "from sklearn.model_selection import train_test_split\n",
        "\n",
        "concat = pd.concat(\n",
        "    [train_data, test_data], \n",
        "    axis=0,\n",
        "    ignore_index =True\n",
        "    ).sort_values(by=['PassengerId'], ascending=True)\n",
        "\n",
        "print(concat['PassengerId'])\n",
        "TEST_SIZE = 0.319\n",
        "\n",
        "\n",
        "######## 削除 #########\n",
        "## Column\n",
        "# Cabin\n",
        "# 欠損値が多すぎるので削除\n",
        "cabin_drop = concat.drop('Cabin', axis=1)\n",
        "train_data_cabin_drop, test_data_cabin_drop = train_test_split(concat, test_size=TEST_SIZE)\n",
        "\n",
        "\n",
        "\n",
        "######## 変換 #########\n",
        "\n",
        "# Age\n",
        "# 1歳未満が欠損値なので0で埋めてInt型にする\n",
        "ages = concat['Age']\n",
        "age_fill_mean = ages.fillna(0).astype(int)\n",
        "\n",
        "train_data_age_fill_mean, test_data_age_fill_mean = train_test_split(\n",
        "    concat.assign(Age=age_fill_mean),\n",
        "    test_size=TEST_SIZE\n",
        "    )\n",
        "\n",
        "# Embarked\n",
        "# print(train_data['Embarked'].value_counts())\n",
        "\n",
        "\n",
        "# Fare\n",
        "# テストデータに１つ欠損がある\n",
        "value = 0\n",
        "fare_int = concat['Fare'].fillna(value).round()\n",
        "train_data_fare_int, test_data_fare_int = train_test_split(\n",
        "    concat.assign(Fare=fare_int),\n",
        "    test_size=TEST_SIZE\n",
        "    )\n",
        "\n",
        "\n",
        "\n",
        "\n",
        "\n",
        "preprocessed = concat.copy(deep=False)\n",
        "\n",
        "preprocessed['Age'] = age_fill_mean\n",
        "del preprocessed['Cabin']\n",
        "preprocessed['Fare'] = fare_int\n",
        "\n",
        "preprocessed_train_data, preprocessed_test_data = train_test_split(preprocessed, test_size=TEST_SIZE, shuffle=False)\n",
        "print(preprocessed_train_data.isnull().sum())\n",
        "print(preprocessed)\n",
        "# dropna() subset でれつ指定\n"
      ],
      "execution_count": 3,
      "outputs": [
        {
          "output_type": "stream",
          "text": [
            "0          1\n",
            "1          2\n",
            "2          3\n",
            "3          4\n",
            "4          5\n",
            "        ... \n",
            "1304    1305\n",
            "1305    1306\n",
            "1306    1307\n",
            "1307    1308\n",
            "1308    1309\n",
            "Name: PassengerId, Length: 1309, dtype: int64\n",
            "PassengerId    0\n",
            "Survived       0\n",
            "Pclass         0\n",
            "Name           0\n",
            "Sex            0\n",
            "Age            0\n",
            "SibSp          0\n",
            "Parch          0\n",
            "Ticket         0\n",
            "Fare           0\n",
            "Embarked       2\n",
            "dtype: int64\n",
            "      PassengerId  Survived  Pclass  ...              Ticket   Fare  Embarked\n",
            "0               1       0.0       3  ...           A/5 21171    7.0         S\n",
            "1               2       1.0       1  ...            PC 17599   71.0         C\n",
            "2               3       1.0       3  ...    STON/O2. 3101282    8.0         S\n",
            "3               4       1.0       1  ...              113803   53.0         S\n",
            "4               5       0.0       3  ...              373450    8.0         S\n",
            "...           ...       ...     ...  ...                 ...    ...       ...\n",
            "1304         1305       NaN       3  ...           A.5. 3236    8.0         S\n",
            "1305         1306       NaN       1  ...            PC 17758  109.0         C\n",
            "1306         1307       NaN       3  ...  SOTON/O.Q. 3101262    7.0         S\n",
            "1307         1308       NaN       3  ...              359309    8.0         S\n",
            "1308         1309       NaN       3  ...                2668   22.0         C\n",
            "\n",
            "[1309 rows x 11 columns]\n"
          ],
          "name": "stdout"
        }
      ]
    },
    {
      "cell_type": "markdown",
      "metadata": {
        "id": "_CQA4yUDeI3h"
      },
      "source": [
        "# 特徴量 クロス集計"
      ]
    },
    {
      "cell_type": "code",
      "metadata": {
        "colab": {
          "base_uri": "https://localhost:8080/",
          "height": 1000
        },
        "id": "PgEdJe_viAH2",
        "outputId": "b5c9bf00-9555-462a-e819-8036e90c1d65"
      },
      "source": [
        "\n",
        "def feature_graph(feature):\n",
        "\n",
        "  # ct = pd.crosstab(index=y, columns=train_data[feature])\n",
        "  ct = pd.crosstab(index=y, columns=train_data_age_fill_mean[feature])\n",
        "  print(ct)\n",
        "  stacked = ct.stack().reset_index().rename(columns={0:'Count'})\n",
        "\n",
        "  sns.barplot(x=stacked[feature], y=stacked.Count, hue=stacked.Survived)\n",
        "  plt.show()\n",
        "\n",
        "\n",
        "features = ['Pclass', 'Sex', 'Parch', 'SibSp', 'Embarked']\n",
        "\n",
        "for feature in features:\n",
        "  feature_graph(feature)\n",
        "\n"
      ],
      "execution_count": null,
      "outputs": [
        {
          "output_type": "stream",
          "text": [
            "Pclass      1   2    3\n",
            "Survived              \n",
            "0          80  97  372\n",
            "1         136  87  119\n"
          ],
          "name": "stdout"
        },
        {
          "output_type": "display_data",
          "data": {
            "image/png": "[encoded data removed]",
            "text/plain": [
              "<Figure size 432x288 with 1 Axes>"
            ]
          },
          "metadata": {
            "tags": []
          }
        },
        {
          "output_type": "stream",
          "text": [
            "Sex       female  male\n",
            "Survived              \n",
            "0             81   468\n",
            "1            233   109\n"
          ],
          "name": "stdout"
        },
        {
          "output_type": "display_data",
          "data": {
            "image/png": "[encoded data removed]",
            "text/plain": [
              "<Figure size 432x288 with 1 Axes>"
            ]
          },
          "metadata": {
            "tags": []
          }
        },
        {
          "output_type": "stream",
          "text": [
            "Parch       0   1   2  3  4  5  6\n",
            "Survived                         \n",
            "0         445  53  40  2  4  4  1\n",
            "1         233  65  40  3  0  1  0\n"
          ],
          "name": "stdout"
        },
        {
          "output_type": "display_data",
          "data": {
            "image/png": "[encoded data removed]",
            "text/plain": [
              "<Figure size 432x288 with 1 Axes>"
            ]
          },
          "metadata": {
            "tags": []
          }
        },
        {
          "output_type": "stream",
          "text": [
            "SibSp       0    1   2   3   4  5  8\n",
            "Survived                            \n",
            "0         398   97  15  12  15  5  7\n",
            "1         210  112  13   4   3  0  0\n"
          ],
          "name": "stdout"
        },
        {
          "output_type": "display_data",
          "data": {
            "image/png": "[encoded data removed]",
            "text/plain": [
              "<Figure size 432x288 with 1 Axes>"
            ]
          },
          "metadata": {
            "tags": []
          }
        },
        {
          "output_type": "stream",
          "text": [
            "Age       0   1   2   3   4   ...  66  70  71  74  80\n",
            "Survived                      ...                    \n",
            "0          0   2   7   1   3  ...   1   3   2   1   0\n",
            "1          7   5   3   5   7  ...   0   0   0   0   1\n",
            "\n",
            "[2 rows x 71 columns]\n"
          ],
          "name": "stdout"
        },
        {
          "output_type": "display_data",
          "data": {
            "image/png": "[encoded data removed]",
            "text/plain": [
              "<Figure size 432x288 with 1 Axes>"
            ]
          },
          "metadata": {
            "tags": []
          }
        },
        {
          "output_type": "stream",
          "text": [
            "Embarked   C   Q    S\n",
            "Survived             \n",
            "0         75  47  427\n",
            "1         93  30  217\n"
          ],
          "name": "stdout"
        },
        {
          "output_type": "display_data",
          "data": {
            "image/png": "[encoded data removed]",
            "text/plain": [
              "<Figure size 432x288 with 1 Axes>"
            ]
          },
          "metadata": {
            "tags": []
          }
        }
      ]
    },
    {
      "cell_type": "markdown",
      "metadata": {
        "id": "1IgLVBQ7SVk5"
      },
      "source": [
        "# ランダムフォレスト"
      ]
    },
    {
      "cell_type": "markdown",
      "metadata": {
        "id": "dgcL_ruEkrJr"
      },
      "source": [
        "## 欠損値がないもので試しにファイル出力"
      ]
    },
    {
      "cell_type": "code",
      "metadata": {
        "id": "em9v_PTBda7h",
        "colab": {
          "base_uri": "https://localhost:8080/"
        },
        "outputId": "14383187-d2a2-4e19-a6d9-fd39795646d2"
      },
      "source": [
        "from sklearn.ensemble import RandomForestClassifier\n",
        "\n",
        "train_data = pd.read_csv('/content/titanic/train.csv')\n",
        "test_data = pd.read_csv('/content/titanic/test.csv')\n",
        "\n",
        "print(train_data.isnull().sum())\n",
        "print(test_data.isnull().sum())\n",
        "\n",
        "y = train_data['Survived']\n",
        "\n",
        "\n",
        "features = ['Pclass', 'Sex', 'SibSp', 'Parch']\n",
        "\n",
        "X = pd.get_dummies(train_data[features])\n",
        "X_test = pd.get_dummies(test_data[features])\n",
        "\n",
        "print(X.isnull().sum())\n",
        "\n",
        "\n",
        "model = RandomForestClassifier(n_estimators=100, max_depth=5, random_state=1)\n",
        "model.fit(X, y)\n",
        "predictions = model.predict(X_test)\n",
        "\n",
        "output = pd.DataFrame({\n",
        "    'PassengerId': test_data.PassengerId,\n",
        "    'Survived': predictions\n",
        "})\n",
        "output.to_csv('submission.csv', index=False)\n"
      ],
      "execution_count": null,
      "outputs": [
        {
          "output_type": "stream",
          "text": [
            "Pclass        0\n",
            "SibSp         0\n",
            "Parch         0\n",
            "Age           0\n",
            "Sex_female    0\n",
            "Sex_male      0\n",
            "dtype: int64\n"
          ],
          "name": "stdout"
        }
      ]
    },
    {
      "cell_type": "markdown",
      "metadata": {
        "id": "2cSp3s1eOha3"
      },
      "source": [
        "スコア\n",
        "0.77511"
      ]
    },
    {
      "cell_type": "markdown",
      "metadata": {
        "id": "xhgms2TTlDzx"
      },
      "source": [
        "## 個別の特徴量で"
      ]
    },
    {
      "cell_type": "code",
      "metadata": {
        "colab": {
          "base_uri": "https://localhost:8080/"
        },
        "id": "ciHSoX9-_djf",
        "outputId": "b40102a5-6f5e-4fce-b9cb-d1ede118af9b"
      },
      "source": [
        "from sklearn.ensemble import RandomForestClassifier\n",
        "\n",
        "y = train_data['Survived']\n",
        "\n",
        "# 前処理のデータ使用\n",
        "train_data = preprocessed_train_data\n",
        "test_data = preprocessed_test_data\n",
        "\n",
        "print(train_data.isnull().sum())\n",
        "print(test_data.isnull().sum())\n",
        "y_true = true_data['Survived']\n",
        "\n",
        "features_list = ['Pclass', 'Sex', 'SibSp', 'Parch', 'Age','Fare', 'Embarked']\n",
        "\n",
        "def predict_by_feature(train_data, test_data, features):\n",
        "  X = pd.get_dummies(train_data[features])\n",
        "\n",
        "  X_test = pd.get_dummies(test_data[features])\n",
        "\n",
        "  model = RandomForestClassifier(n_estimators=100, max_depth=5, random_state=1)\n",
        "  model.fit(X, y)\n",
        "\n",
        "  predictions = model.predict(X_test)\n",
        "\n",
        "  # Accuracy\n",
        "  accuracy = accuracy_score(y_true, predictions)\n",
        "  print('%s : accuracy = %f' % (features, accuracy))\n",
        "\n",
        "# Indivisual\n",
        "for features in features_list:\n",
        "  predict_by_feature(train_data, test_data, [features])\n",
        "\n",
        "# SUM\n",
        "predict_by_feature(train_data, test_data, features_list)\n"
      ],
      "execution_count": 7,
      "outputs": [
        {
          "output_type": "stream",
          "text": [
            "PassengerId    0\n",
            "Survived       0\n",
            "Pclass         0\n",
            "Name           0\n",
            "Sex            0\n",
            "Age            0\n",
            "SibSp          0\n",
            "Parch          0\n",
            "Ticket         0\n",
            "Fare           0\n",
            "Embarked       2\n",
            "dtype: int64\n",
            "PassengerId      0\n",
            "Survived       418\n",
            "Pclass           0\n",
            "Name             0\n",
            "Sex              0\n",
            "Age              0\n",
            "SibSp            0\n",
            "Parch            0\n",
            "Ticket           0\n",
            "Fare             0\n",
            "Embarked         0\n",
            "dtype: int64\n",
            "['Pclass'] : accuracy = 0.672249\n",
            "['Sex'] : accuracy = 0.765550\n",
            "['SibSp'] : accuracy = 0.602871\n",
            "['Parch'] : accuracy = 0.669856\n",
            "['Age'] : accuracy = 0.619617\n",
            "['Fare'] : accuracy = 0.662679\n",
            "['Embarked'] : accuracy = 0.650718\n",
            "['Pclass', 'Sex', 'SibSp', 'Parch', 'Age', 'Fare', 'Embarked'] : accuracy = 0.770335\n"
          ],
          "name": "stdout"
        }
      ]
    },
    {
      "cell_type": "markdown",
      "metadata": {
        "id": "KtV4g0XjEHr1"
      },
      "source": [
        "\n",
        "- Sex単体でも同じようなスコアが出る\n",
        "\n",
        "- 他の単体だと精度が落ちる\n",
        "\n",
        "- 組み合わせると精度が上がる\n",
        "\n",
        "- リストワイズで欠損全部抜くと0.3くらいに下がる\n",
        "\n",
        "- Age入れると下がる"
      ]
    },
    {
      "cell_type": "markdown",
      "metadata": {
        "id": "7dsAL9wbYO4I"
      },
      "source": [
        "# 決定木"
      ]
    },
    {
      "cell_type": "code",
      "metadata": {
        "colab": {
          "base_uri": "https://localhost:8080/"
        },
        "id": "O05VJN0_YXWD",
        "outputId": "33e514fb-6d20-4523-81c9-aaab52b2f442"
      },
      "source": [
        "from sklearn.tree import DecisionTreeClassifier, export_graphviz\n",
        "\n",
        "import graphviz\n",
        "import pydotplus\n",
        "from IPython.display import Image\n",
        "from sklearn.externals.six import StringIO\n",
        "\n",
        "features = ['Pclass', 'Sex', 'SibSp', 'Parch', 'Age','Fare', 'Embarked']\n",
        "\n",
        "y = train_data['Survived']\n",
        "y_true = true_data['Survived']\n",
        "\n",
        "X = pd.get_dummies(preprocessed_train_data[features])\n",
        "X_test = pd.get_dummies(preprocessed_test_data[features])\n",
        "\n",
        "model = DecisionTreeClassifier()\n",
        "model.fit(X, y)\n",
        "\n",
        "\n",
        "predictions = model.predict(X_test)\n",
        "\n",
        "# Accuracy\n",
        "accuracy = accuracy_score(y_true, predictions)\n",
        "print('%s : accuracy = %f' % (features, accuracy))"
      ],
      "execution_count": 11,
      "outputs": [
        {
          "output_type": "stream",
          "text": [
            "['Pclass', 'Sex', 'SibSp', 'Parch', 'Age', 'Fare', 'Embarked'] : accuracy = 0.700957\n"
          ],
          "name": "stdout"
        }
      ]
    },
    {
      "cell_type": "code",
      "metadata": {
        "id": "2AAUarTLeMI8"
      },
      "source": [
        ""
      ],
      "execution_count": null,
      "outputs": []
    },
    {
      "cell_type": "markdown",
      "metadata": {
        "id": "q2qjj3mlSlk6"
      },
      "source": [
        "# データみる\n",
        "\n"
      ]
    },
    {
      "cell_type": "code",
      "metadata": {
        "colab": {
          "base_uri": "https://localhost:8080/"
        },
        "id": "uxkk4qQHS1c5",
        "outputId": "1b409045-520d-4e8d-dc9f-9cbc042fae50"
      },
      "source": [
        "pd.set_option('display.max_columns', 10)\n",
        "train_data = pd.read_csv('/content/titanic/train.csv')\n",
        "\n",
        "print(train_data.describe())"
      ],
      "execution_count": null,
      "outputs": [
        {
          "output_type": "stream",
          "text": [
            "       PassengerId    Survived      Pclass         Age       SibSp  \\\n",
            "count   891.000000  891.000000  891.000000  714.000000  891.000000   \n",
            "mean    446.000000    0.383838    2.308642   29.699118    0.523008   \n",
            "std     257.353842    0.486592    0.836071   14.526497    1.102743   \n",
            "min       1.000000    0.000000    1.000000    0.420000    0.000000   \n",
            "25%     223.500000    0.000000    2.000000   20.125000    0.000000   \n",
            "50%     446.000000    0.000000    3.000000   28.000000    0.000000   \n",
            "75%     668.500000    1.000000    3.000000   38.000000    1.000000   \n",
            "max     891.000000    1.000000    3.000000   80.000000    8.000000   \n",
            "\n",
            "            Parch        Fare  \n",
            "count  891.000000  891.000000  \n",
            "mean     0.381594   32.204208  \n",
            "std      0.806057   49.693429  \n",
            "min      0.000000    0.000000  \n",
            "25%      0.000000    7.910400  \n",
            "50%      0.000000   14.454200  \n",
            "75%      0.000000   31.000000  \n",
            "max      6.000000  512.329200  \n"
          ],
          "name": "stdout"
        }
      ]
    }
  ]
}